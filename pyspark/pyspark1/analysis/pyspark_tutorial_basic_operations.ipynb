{
  "nbformat": 4,
  "nbformat_minor": 0,
  "metadata": {
    "colab": {
      "provenance": []
    },
    "kernelspec": {
      "name": "python3",
      "display_name": "Python 3"
    },
    "language_info": {
      "name": "python"
    }
  },
  "cells": [
    {
      "cell_type": "code",
      "execution_count": null,
      "metadata": {
        "colab": {
          "base_uri": "https://localhost:8080/"
        },
        "id": "5lkGaTy9NE7U",
        "outputId": "ab67fe75-7888-47f8-f6eb-ec5e7e25d1bd"
      },
      "outputs": [
        {
          "output_type": "stream",
          "name": "stdout",
          "text": [
            "\r0% [Working]\r            \rHit:1 http://archive.ubuntu.com/ubuntu jammy InRelease\n",
            "\r0% [Waiting for headers] [Connected to cloud.r-project.org (18.67.65.79)] [Conn\r                                                                               \rGet:2 http://archive.ubuntu.com/ubuntu jammy-updates InRelease [119 kB]\n",
            "\r                                                                               \rGet:3 http://security.ubuntu.com/ubuntu jammy-security InRelease [110 kB]\n",
            "\r                                                                               \rGet:4 https://cloud.r-project.org/bin/linux/ubuntu jammy-cran40/ InRelease [3,626 B]\n",
            "\r0% [Waiting for headers] [Connecting to ppa.launchpadcontent.net (185.125.190.5\r                                                                               \rGet:5 http://archive.ubuntu.com/ubuntu jammy-backports InRelease [109 kB]\n",
            "Get:6 https://developer.download.nvidia.com/compute/cuda/repos/ubuntu2204/x86_64  InRelease [1,581 B]\n",
            "Hit:7 https://ppa.launchpadcontent.net/c2d4u.team/c2d4u4.0+/ubuntu jammy InRelease\n",
            "Get:8 http://archive.ubuntu.com/ubuntu jammy-updates/main amd64 Packages [1,284 kB]\n",
            "Get:9 http://archive.ubuntu.com/ubuntu jammy-updates/restricted amd64 Packages [1,158 kB]\n",
            "Get:10 http://archive.ubuntu.com/ubuntu jammy-updates/universe amd64 Packages [1,264 kB]\n",
            "Get:11 http://archive.ubuntu.com/ubuntu jammy-updates/multiverse amd64 Packages [49.8 kB]\n",
            "Get:12 http://security.ubuntu.com/ubuntu jammy-security/universe amd64 Packages [998 kB]\n",
            "Hit:13 https://ppa.launchpadcontent.net/deadsnakes/ppa/ubuntu jammy InRelease\n",
            "Get:14 http://archive.ubuntu.com/ubuntu jammy-backports/universe amd64 Packages [28.1 kB]\n",
            "Hit:15 https://ppa.launchpadcontent.net/graphics-drivers/ppa/ubuntu jammy InRelease\n",
            "Get:16 https://developer.download.nvidia.com/compute/cuda/repos/ubuntu2204/x86_64  Packages [517 kB]\n",
            "Hit:17 https://ppa.launchpadcontent.net/ubuntugis/ppa/ubuntu jammy InRelease\n",
            "Fetched 5,641 kB in 2s (3,280 kB/s)\n",
            "Reading package lists... Done\n"
          ]
        }
      ],
      "source": [
        "!apt-get update"
      ]
    },
    {
      "cell_type": "code",
      "source": [
        "!apt-get install openjdk-8-jdk-headless -qq > /dev/null\n",
        "!wget -q http://archive.apache.org/dist/spark/spark-3.1.1/spark-3.1.1-bin-hadoop3.2.tgz\n",
        "!tar xf spark-3.1.1-bin-hadoop3.2.tgz\n",
        "!pip install -q findspark\n",
        "import os\n",
        "os.environ[\"JAVA_HOME\"] = \"/usr/lib/jvm/java-8-openjdk-amd64\"\n",
        "os.environ[\"SPARK_HOME\"] = \"/content/spark-3.1.1-bin-hadoop3.2\"\n",
        "# import findspark\n",
        "# findspark.init()\n",
        "# from pyspark.sql import SparkSession\n",
        "# spark = SparkSession.builder.master(\"local[*]\").getOrCreate()\n",
        "# spark"
      ],
      "metadata": {
        "id": "jNGuAdoGPCVS",
        "colab": {
          "base_uri": "https://localhost:8080/",
          "height": 219
        },
        "outputId": "0d2919ba-8bfc-4d2c-ed9e-7a6a2af23865"
      },
      "execution_count": 2,
      "outputs": [
        {
          "output_type": "execute_result",
          "data": {
            "text/plain": [
              "<pyspark.sql.session.SparkSession at 0x7ef83968b2e0>"
            ],
            "text/html": [
              "\n",
              "            <div>\n",
              "                <p><b>SparkSession - in-memory</b></p>\n",
              "                \n",
              "        <div>\n",
              "            <p><b>SparkContext</b></p>\n",
              "\n",
              "            <p><a href=\"http://643ef9bf28ca:4040\">Spark UI</a></p>\n",
              "\n",
              "            <dl>\n",
              "              <dt>Version</dt>\n",
              "                <dd><code>v3.1.1</code></dd>\n",
              "              <dt>Master</dt>\n",
              "                <dd><code>local[*]</code></dd>\n",
              "              <dt>AppName</dt>\n",
              "                <dd><code>pyspark-shell</code></dd>\n",
              "            </dl>\n",
              "        </div>\n",
              "        \n",
              "            </div>\n",
              "        "
            ]
          },
          "metadata": {},
          "execution_count": 2
        }
      ]
    },
    {
      "cell_type": "code",
      "source": [
        "import findspark\n",
        "findspark.init()\n",
        "from pyspark.sql import SparkSession\n",
        "spark = SparkSession.builder.master(\"local[*]\").getOrCreate()\n",
        "spark"
      ],
      "metadata": {
        "id": "nYJINhLVHDSI"
      },
      "execution_count": null,
      "outputs": []
    },
    {
      "cell_type": "code",
      "source": [
        "import pandas as pd\n",
        "from pyspark.sql.functions import mean,when,lit,max\n",
        "import numpy as np"
      ],
      "metadata": {
        "id": "VMKzE-OIJiAA"
      },
      "execution_count": 112,
      "outputs": []
    },
    {
      "cell_type": "code",
      "source": [
        "mydata = spark.read.csv('/content/original.csv',header=True,inferSchema=True)"
      ],
      "metadata": {
        "id": "VHAwpaMLQ6qa"
      },
      "execution_count": 5,
      "outputs": []
    },
    {
      "cell_type": "code",
      "source": [
        "mydata.printSchema()"
      ],
      "metadata": {
        "id": "k-bIf-GhRXoN",
        "colab": {
          "base_uri": "https://localhost:8080/"
        },
        "outputId": "5fd13fb5-89af-4b86-b373-bb5fcf72a322"
      },
      "execution_count": 6,
      "outputs": [
        {
          "output_type": "stream",
          "name": "stdout",
          "text": [
            "root\n",
            " |-- id: integer (nullable = true)\n",
            " |-- first_name: string (nullable = true)\n",
            " |-- last_name: string (nullable = true)\n",
            " |-- gender: string (nullable = true)\n",
            " |-- City: string (nullable = true)\n",
            " |-- JobTitle: string (nullable = true)\n",
            " |-- Salary: string (nullable = true)\n",
            " |-- Latitude: double (nullable = true)\n",
            " |-- Longitude: double (nullable = true)\n",
            "\n"
          ]
        }
      ]
    },
    {
      "cell_type": "code",
      "source": [
        "mydata.show()"
      ],
      "metadata": {
        "colab": {
          "base_uri": "https://localhost:8080/"
        },
        "id": "vy0EBk8ASQnZ",
        "outputId": "d5f4fba9-8085-4f43-b2f3-006847f53ddb"
      },
      "execution_count": 7,
      "outputs": [
        {
          "output_type": "stream",
          "name": "stdout",
          "text": [
            "+---+----------+----------+------+---------------+--------------------+---------+----------+-----------+\n",
            "| id|first_name| last_name|gender|           City|            JobTitle|   Salary|  Latitude|  Longitude|\n",
            "+---+----------+----------+------+---------------+--------------------+---------+----------+-----------+\n",
            "|  1|   Melinde| Shilburne|Female|      Nowa Ruda| Assistant Professor|$57438.18|50.5774075| 16.4967184|\n",
            "|  2|  Kimberly|Von Welden|Female|         Bulgan|       Programmer II|$62846.60|48.8231572|103.5218199|\n",
            "|  3|    Alvera|  Di Boldi|Female|           null|                null|$57576.52|39.9947462|116.3397725|\n",
            "|  4|   Shannon| O'Griffin|  Male|  Divnomorskoye|Budget/Accounting...|$61489.23|44.5047212| 38.1300171|\n",
            "|  5|  Sherwood|   Macieja|  Male|      Mytishchi|            VP Sales|$63863.09|      null| 37.6489954|\n",
            "|  6|     Maris|      Folk|Female|Kinsealy-Drinan|      Civil Engineer|$30101.16|53.4266145| -6.1644997|\n",
            "|  7|     Masha|    Divers|Female|         Dachun|                null|$25090.87| 24.879416| 118.930111|\n",
            "|  8|   Goddart|     Flear|  Male|      Trélissac|Desktop Support T...|$46116.36|45.1905186|  0.7423124|\n",
            "|  9|      Roth|O'Cannavan|  Male|         Heitan|VP Product Manage...|$73697.10| 32.027934| 106.657113|\n",
            "| 10|      Bran|   Trahear|  Male|       Arbeláez|Mechanical System...|$68098.42|  4.272793| -74.416014|\n",
            "| 11|    Kylynn|   Lockart|Female|       El Cardo|Nuclear Power Eng...|$13604.63|     -5.85|-79.8833329|\n",
            "| 12|       Rey|    Meharg|Female|    Wangqingtuo|Systems Administr...|$73423.70| 39.172378| 116.931607|\n",
            "| 13|      Kerr|    Braden|  Male|      Sułkowice|Compensation Analyst|$33432.99|49.8151822| 19.3771749|\n",
            "| 14|    Mickie| Whanstall|  Male|    Springfield|Assistant Media P...|$50838.53|42.1014803|-72.5766759|\n",
            "| 15|    Kaspar|     Pally|  Male|         Chrást|  Analyst Programmer|$40163.03|49.7923299| 13.4915324|\n",
            "| 16|    Norbie|    Gwyllt|  Male|         Xijiao|              Editor|$32492.73|43.4945737|  5.8978018|\n",
            "| 17|    Claude|    Briant|Female|      Mieścisko|Research Assistan...|$51862.48|52.7441662| 17.3278637|\n",
            "| 18|     Thain|    Habbon|  Male| Foros do Trapo|     Design Engineer|$42135.67| 38.696249| -8.7098337|\n",
            "| 19|  Tiffanie|  Pattison|Female|    Jabungsisir|Senior Financial ...|$91925.08|-7.7232567|113.4686802|\n",
            "| 20|    Ettore|  Gerriets|  Male|          Pedra| Staff Accountant IV|$73921.33|40.7172049| -8.3625148|\n",
            "+---+----------+----------+------+---------------+--------------------+---------+----------+-----------+\n",
            "only showing top 20 rows\n",
            "\n"
          ]
        }
      ]
    },
    {
      "cell_type": "markdown",
      "source": [
        "#### Example of doing mean of values"
      ],
      "metadata": {
        "id": "Aj3GQ2ySRlOk"
      }
    },
    {
      "cell_type": "code",
      "source": [
        "mydata.select(mean(mydata['Latitude']).alias('average')).show()"
      ],
      "metadata": {
        "colab": {
          "base_uri": "https://localhost:8080/"
        },
        "id": "CDInOMDvJKLx",
        "outputId": "2c1fa1e7-f1b2-4789-d429-fcb4ad6c7065"
      },
      "execution_count": 8,
      "outputs": [
        {
          "output_type": "stream",
          "name": "stdout",
          "text": [
            "+-----------------+\n",
            "|          average|\n",
            "+-----------------+\n",
            "|25.43151724234234|\n",
            "+-----------------+\n",
            "\n"
          ]
        }
      ]
    },
    {
      "cell_type": "markdown",
      "source": [
        "#### There are few null values in \"City\" column. Replace null values by unknown."
      ],
      "metadata": {
        "id": "CaVWhtMBSZF0"
      }
    },
    {
      "cell_type": "code",
      "source": [
        "mydata = mydata.na.fill('Unknown',subset=['City'])"
      ],
      "metadata": {
        "id": "o7y7KnqpMmEq"
      },
      "execution_count": 35,
      "outputs": []
    },
    {
      "cell_type": "code",
      "source": [
        "mydata.head(2)"
      ],
      "metadata": {
        "colab": {
          "base_uri": "https://localhost:8080/"
        },
        "id": "33MPA6uxR4AK",
        "outputId": "1e65f75b-ab0f-4c73-c6ce-8c87a0acaa40"
      },
      "execution_count": 36,
      "outputs": [
        {
          "output_type": "execute_result",
          "data": {
            "text/plain": [
              "[Row(id=1, first_name='Melinde', last_name='Shilburne', gender='Female', City='Nowa Ruda', JobTitle='Assistant Professor', Salary='$57438.18', Latitude=50.5774075, Longitude=16.4967184),\n",
              " Row(id=2, first_name='Kimberly', last_name='Von Welden', gender='Female', City='Bulgan', JobTitle='Programmer II', Salary='$62846.60', Latitude=48.8231572, Longitude=103.5218199)]"
            ]
          },
          "metadata": {},
          "execution_count": 36
        }
      ]
    },
    {
      "cell_type": "markdown",
      "source": [
        "Create a new dataframe that has a new column Null vlues filled with Unknown in City column"
      ],
      "metadata": {
        "id": "fV-6wqJnSYVq"
      }
    },
    {
      "cell_type": "code",
      "source": [
        "mydata2 = mydata.withColumn('clean_city', when(mydata.City.isNull(),'Unknown').otherwise(mydata.City))"
      ],
      "metadata": {
        "id": "CwKXHD1_To-M"
      },
      "execution_count": 37,
      "outputs": []
    },
    {
      "cell_type": "markdown",
      "source": [
        "Overwrite the newly created dataframe with JobTitle = Not Null.  "
      ],
      "metadata": {
        "id": "1MRAQFIfT6BM"
      }
    },
    {
      "cell_type": "code",
      "source": [
        "#@@@@@@@@@@@@@@@@@@@@@@@@@@@@@@@@@@@@@@@@@@@@@\n",
        "# Approach- 1\n",
        "#@@@@@@@@@@@@@@@@@@@@@@@@@@@@@@@@@@@@@@@@@@@@@\n",
        "mydata2 = mydata2.na.drop(subset=['JobTitle'])"
      ],
      "metadata": {
        "id": "Dh5eaMp4Z2J-"
      },
      "execution_count": 38,
      "outputs": []
    },
    {
      "cell_type": "code",
      "source": [
        "#:::::::::::::::::::::::::::::::::::::::::::::::\n",
        "# Approach- 2\n",
        "#:::::::::::::::::::::::::::::::::::::::::::::::\n",
        "# mydata2 = mydata2.filter(mydata.JobTitle.isNotNull()).show()"
      ],
      "metadata": {
        "id": "fvIQBQaxbj9l"
      },
      "execution_count": 39,
      "outputs": []
    },
    {
      "cell_type": "markdown",
      "source": [
        "#### Replace the Salary is Null with mean value"
      ],
      "metadata": {
        "id": "xKK-oaNEcRBF"
      }
    },
    {
      "cell_type": "markdown",
      "source": [
        "Salary column ins string in schema. However, we need to remove the leading dollar signature from the column. We will use substring method."
      ],
      "metadata": {
        "id": "JsuIgMbtczLc"
      }
    },
    {
      "cell_type": "code",
      "source": [
        "mydata2 = mydata2.withColumn('clean_salary',mydata2.Salary.substr(2,100).cast('float'))\n",
        "## The last cast command has been added, because the type of Salary was str and only rmove the dollar sign will not convert it to str,\n",
        "# hence we need to forcefully convert to float."
      ],
      "metadata": {
        "id": "2ZW2xr_pFoB_"
      },
      "execution_count": 40,
      "outputs": []
    },
    {
      "cell_type": "code",
      "source": [
        "salary_mean = mydata2.select(mean(mydata2['clean_salary'])).collect()[0][0]"
      ],
      "metadata": {
        "id": "eUqS9PN2GUQA"
      },
      "execution_count": 41,
      "outputs": []
    },
    {
      "cell_type": "markdown",
      "source": [
        "#### Now replace Null values by using the above mean"
      ],
      "metadata": {
        "id": "8Fupi8ajGwtw"
      }
    },
    {
      "cell_type": "code",
      "source": [
        "## @@ Method-1\n",
        "#mydata2 = mydata2.na.fill(salary_mean,subset=['clean_salary'])\n",
        "\n",
        "## @@ Method-2\n",
        "mydata2 = mydata2.withColumn('clean_salary',when(mydata2.clean_salary.isNull(),lit(salary_mean)).otherwise(mydata2.clean_salary))"
      ],
      "metadata": {
        "id": "KJ4qW8q-H4NA"
      },
      "execution_count": 42,
      "outputs": []
    },
    {
      "cell_type": "markdown",
      "source": [
        "#### Replace the Null values of Latitude column with median."
      ],
      "metadata": {
        "id": "h_YWLmxULpt7"
      }
    },
    {
      "cell_type": "code",
      "source": [
        "## Unlike mean function, there is no such inbuild functionality like median. So, we need to call numpy for median calculation.\n",
        "# the process is given below.\n",
        "latitude = mydata2.select(['Latitude'])"
      ],
      "metadata": {
        "id": "knMQeUasJl3x"
      },
      "execution_count": 43,
      "outputs": []
    },
    {
      "cell_type": "code",
      "source": [
        "lat_median = np.median(latitude.na.drop().collect())"
      ],
      "metadata": {
        "id": "wtOSa8OSJuQj"
      },
      "execution_count": 44,
      "outputs": []
    },
    {
      "cell_type": "code",
      "source": [
        "mydata2 = mydata2.na.fill(lat_median,subset = ['Latitude'])"
      ],
      "metadata": {
        "id": "KXKSnUFYM_lo"
      },
      "execution_count": 45,
      "outputs": []
    },
    {
      "cell_type": "markdown",
      "source": [
        "#### Gender-wise salary"
      ],
      "metadata": {
        "id": "_R-c0hCPIRNW"
      }
    },
    {
      "cell_type": "code",
      "source": [
        "### Genderwise average salary\n",
        "gender_salary = mydata2.groupBy('gender').agg(mean('clean_salary').alias('avg_salary'))"
      ],
      "metadata": {
        "id": "69mlreuXIT2F"
      },
      "execution_count": 85,
      "outputs": []
    },
    {
      "cell_type": "code",
      "source": [
        "### Create two seperate columns for male and female salary and put 0 for not female and male respectively.\n",
        "df = mydata2.withColumn('female_salary',when(mydata2.gender == 'Female',mydata2.clean_salary).otherwise(0))\n",
        "\n",
        "df = df.withColumn('male_salary',when(df.gender == 'Male',df.clean_salary).otherwise(0))"
      ],
      "metadata": {
        "id": "Vg1MPQqrJszn"
      },
      "execution_count": 69,
      "outputs": []
    },
    {
      "cell_type": "code",
      "source": [
        "### Salary by Jobtitle and gender.\n",
        "salary_by_title_gender = df.groupBy(['JobTitle','gender']).mean('clean_salary')"
      ],
      "metadata": {
        "id": "5Ygy8qa2J0WW"
      },
      "execution_count": 86,
      "outputs": []
    },
    {
      "cell_type": "code",
      "source": [
        "salary_by_title_gender.filter(salary_by_title_gender['JobTitle'] == 'Staff Accountant IV').show()"
      ],
      "metadata": {
        "colab": {
          "base_uri": "https://localhost:8080/"
        },
        "id": "VjpEvlVSSEhx",
        "outputId": "008dc74e-8e15-42fd-b3e3-1943ec7355a9"
      },
      "execution_count": 81,
      "outputs": [
        {
          "output_type": "stream",
          "name": "stdout",
          "text": [
            "+-------------------+------+------------------+\n",
            "|           JobTitle|gender| avg(clean_salary)|\n",
            "+-------------------+------+------------------+\n",
            "|Staff Accountant IV|  Male|      73921.328125|\n",
            "|Staff Accountant IV|Female|52926.352864583336|\n",
            "+-------------------+------+------------------+\n",
            "\n"
          ]
        }
      ]
    },
    {
      "cell_type": "code",
      "source": [
        "salary_by_title_gender.orderBy('JobTitle').show()"
      ],
      "metadata": {
        "colab": {
          "base_uri": "https://localhost:8080/"
        },
        "id": "4QqJ4Cm6T6m5",
        "outputId": "355076e5-dd60-4430-a5e1-e936baa7fe6c"
      },
      "execution_count": 84,
      "outputs": [
        {
          "output_type": "stream",
          "name": "stdout",
          "text": [
            "+--------------------+------+------------------+\n",
            "|            JobTitle|gender| avg(clean_salary)|\n",
            "+--------------------+------+------------------+\n",
            "| Account Coordinator|  Male|51446.623697916664|\n",
            "| Account Coordinator|Female|     46707.4453125|\n",
            "|   Account Executive|  Male|    65415.96796875|\n",
            "|   Account Executive|Female|   52020.779296875|\n",
            "|Account Represent...|Female|51116.973307291664|\n",
            "|Account Represent...|Female|    41786.91015625|\n",
            "|Account Represent...|  Male|    40562.69921875|\n",
            "|Account Represent...|  Male|     22420.7109375|\n",
            "|       Accountant II|Female|  50354.8154296875|\n",
            "|      Accountant III|Female|  15589.5595703125|\n",
            "|      Accountant III|  Male|39183.798177083336|\n",
            "|       Accountant IV|Female|   82732.248046875|\n",
            "|Accounting Assist...|  Male|     59255.4296875|\n",
            "|Accounting Assist...|Female|  58916.0830078125|\n",
            "|Accounting Assist...|  Male|   18795.439453125|\n",
            "|Accounting Assist...|Female|44071.866536458336|\n",
            "|Accounting Assist...|Female|      57337.484375|\n",
            "|             Actuary|  Male|   75540.216796875|\n",
            "|             Actuary|Female|    54196.85859375|\n",
            "|Administrative As...|Female|       43652.28125|\n",
            "+--------------------+------+------------------+\n",
            "only showing top 20 rows\n",
            "\n"
          ]
        }
      ]
    },
    {
      "cell_type": "code",
      "source": [
        "df.show()"
      ],
      "metadata": {
        "colab": {
          "base_uri": "https://localhost:8080/"
        },
        "id": "lCqwFWbGWHQT",
        "outputId": "ae5483da-afc0-40b4-d5ae-0286643699bf"
      },
      "execution_count": 89,
      "outputs": [
        {
          "output_type": "stream",
          "name": "stdout",
          "text": [
            "+---+----------+----------+------+---------------+--------------------+---------+----------+-----------+---------------+----------------+----------------+----------------+\n",
            "| id|first_name| last_name|gender|           City|            JobTitle|   Salary|  Latitude|  Longitude|     clean_city|    clean_salary|   female_salary|     male_salary|\n",
            "+---+----------+----------+------+---------------+--------------------+---------+----------+-----------+---------------+----------------+----------------+----------------+\n",
            "|  1|   Melinde| Shilburne|Female|      Nowa Ruda| Assistant Professor|$57438.18|50.5774075| 16.4967184|      Nowa Ruda|   57438.1796875|   57438.1796875|             0.0|\n",
            "|  2|  Kimberly|Von Welden|Female|         Bulgan|       Programmer II|$62846.60|48.8231572|103.5218199|         Bulgan|   62846.6015625|   62846.6015625|             0.0|\n",
            "|  4|   Shannon| O'Griffin|  Male|  Divnomorskoye|Budget/Accounting...|$61489.23|44.5047212| 38.1300171|  Divnomorskoye|  61489.23046875|             0.0|  61489.23046875|\n",
            "|  5|  Sherwood|   Macieja|  Male|      Mytishchi|            VP Sales|$63863.09|31.9339724| 37.6489954|      Mytishchi|  63863.08984375|             0.0|  63863.08984375|\n",
            "|  6|     Maris|      Folk|Female|Kinsealy-Drinan|      Civil Engineer|$30101.16|53.4266145| -6.1644997|Kinsealy-Drinan|  30101.16015625|  30101.16015625|             0.0|\n",
            "|  8|   Goddart|     Flear|  Male|      Trélissac|Desktop Support T...|$46116.36|45.1905186|  0.7423124|      Trélissac|    46116.359375|             0.0|    46116.359375|\n",
            "|  9|      Roth|O'Cannavan|  Male|         Heitan|VP Product Manage...|$73697.10| 32.027934| 106.657113|         Heitan|   73697.1015625|             0.0|   73697.1015625|\n",
            "| 10|      Bran|   Trahear|  Male|       Arbeláez|Mechanical System...|$68098.42|  4.272793| -74.416014|       Arbeláez|    68098.421875|             0.0|    68098.421875|\n",
            "| 11|    Kylynn|   Lockart|Female|       El Cardo|Nuclear Power Eng...|$13604.63|     -5.85|-79.8833329|       El Cardo|13604.6298828125|13604.6298828125|             0.0|\n",
            "| 12|       Rey|    Meharg|Female|    Wangqingtuo|Systems Administr...|$73423.70| 39.172378| 116.931607|    Wangqingtuo|    73423.703125|    73423.703125|             0.0|\n",
            "| 13|      Kerr|    Braden|  Male|      Sułkowice|Compensation Analyst|$33432.99|49.8151822| 19.3771749|      Sułkowice|  33432.98828125|             0.0|  33432.98828125|\n",
            "| 14|    Mickie| Whanstall|  Male|    Springfield|Assistant Media P...|$50838.53|42.1014803|-72.5766759|    Springfield|     50838.53125|             0.0|     50838.53125|\n",
            "| 15|    Kaspar|     Pally|  Male|         Chrást|  Analyst Programmer|$40163.03|49.7923299| 13.4915324|         Chrást|     40163.03125|             0.0|     40163.03125|\n",
            "| 16|    Norbie|    Gwyllt|  Male|         Xijiao|              Editor|$32492.73|43.4945737|  5.8978018|         Xijiao|  32492.73046875|             0.0|  32492.73046875|\n",
            "| 17|    Claude|    Briant|Female|      Mieścisko|Research Assistan...|$51862.48|52.7441662| 17.3278637|      Mieścisko|  51862.48046875|  51862.48046875|             0.0|\n",
            "| 18|     Thain|    Habbon|  Male| Foros do Trapo|     Design Engineer|$42135.67| 38.696249| -8.7098337| Foros do Trapo|    42135.671875|             0.0|    42135.671875|\n",
            "| 19|  Tiffanie|  Pattison|Female|    Jabungsisir|Senior Financial ...|$91925.08|-7.7232567|113.4686802|    Jabungsisir|    91925.078125|    91925.078125|             0.0|\n",
            "| 20|    Ettore|  Gerriets|  Male|          Pedra| Staff Accountant IV|$73921.33|40.7172049| -8.3625148|          Pedra|    73921.328125|             0.0|    73921.328125|\n",
            "| 21|      Alon|  Chasteau|  Male|          Xin’e|     Web Developer I|$62755.85|  49.16291|  127.98658|          Xin’e|   62755.8515625|             0.0|   62755.8515625|\n",
            "| 22|   Guthrey|    Johnke|  Male|         Xijiao|         Developer I|$13708.03|40.7576842| 23.1342184|         Xijiao|13708.0302734375|             0.0|13708.0302734375|\n",
            "+---+----------+----------+------+---------------+--------------------+---------+----------+-----------+---------------+----------------+----------------+----------------+\n",
            "only showing top 20 rows\n",
            "\n"
          ]
        }
      ]
    },
    {
      "cell_type": "code",
      "source": [
        "### Create a column that will have salary difference for Male and Female for each JobTitle.\n",
        "\n",
        "salary_by_title_gender = df.groupBy('JobTitle').agg(mean('male_salary').alias('final_male_salary'),\n",
        "                                                    mean('female_salary').alias('final_female_salary'))"
      ],
      "metadata": {
        "id": "yb29nKh8UOvJ"
      },
      "execution_count": 104,
      "outputs": []
    },
    {
      "cell_type": "code",
      "source": [
        "salary_by_title_gender.withColumn('delta',salary_by_title_gender.final_male_salary-salary_by_title_gender.final_female_salary).show()"
      ],
      "metadata": {
        "colab": {
          "base_uri": "https://localhost:8080/"
        },
        "id": "lESSoOm-VgFh",
        "outputId": "fff2f486-5036-499c-c073-1bee3a9910c3"
      },
      "execution_count": 107,
      "outputs": [
        {
          "output_type": "stream",
          "name": "stdout",
          "text": [
            "+--------------------+------------------+-------------------+-------------------+\n",
            "|            JobTitle| final_male_salary|final_female_salary|              delta|\n",
            "+--------------------+------------------+-------------------+-------------------+\n",
            "|Systems Administr...|  15540.9501953125|    50590.474609375|  -35049.5244140625|\n",
            "|   Media Manager III|17381.920572916668| 29586.436197916668|      -12204.515625|\n",
            "|  Recruiting Manager|  26383.4951171875| 34848.452473958336| -8464.957356770836|\n",
            "|       Geologist III|    12830.75390625|       31749.046875|    -18918.29296875|\n",
            "|        Geologist II|   43293.865234375|                0.0|    43293.865234375|\n",
            "|Database Administ...|     52018.4609375|                0.0|      52018.4609375|\n",
            "|   Financial Analyst|       39606.05625|    23353.776953125|    16252.279296875|\n",
            "|  Analyst Programmer|  21042.9634765625|   16406.1287109375|  4636.834765625001|\n",
            "|Software Engineer II|      74782.640625|                0.0|       74782.640625|\n",
            "|       Accountant IV|               0.0|    82732.248046875|   -82732.248046875|\n",
            "|    Product Engineer|       20464.94375|     41825.48359375|-21360.539843750004|\n",
            "|Software Test Eng...|   27122.462890625|   32218.6083984375|   -5096.1455078125|\n",
            "|Safety Technician...|   29421.529296875|                0.0|    29421.529296875|\n",
            "|    Junior Executive|49510.330729166664| 15752.220052083334|  33758.11067708333|\n",
            "|Systems Administr...|               0.0|        77059.21875|       -77059.21875|\n",
            "|Human Resources A...| 16609.27783203125|    24022.662109375|  -7413.38427734375|\n",
            "|        VP Marketing|52844.534830729164|  7981.178385416667|   44863.3564453125|\n",
            "|  Environmental Tech|      45660.890625| 13706.980143229166| 31953.910481770836|\n",
            "|Mechanical System...|44321.593098958336| 31370.781901041668| 12950.811197916668|\n",
            "| Assistant Professor|   26912.770703125|    22175.953515625|  4736.817187500001|\n",
            "+--------------------+------------------+-------------------+-------------------+\n",
            "only showing top 20 rows\n",
            "\n"
          ]
        }
      ]
    },
    {
      "cell_type": "markdown",
      "source": [
        "### Which city has the highest average salary"
      ],
      "metadata": {
        "id": "WXrUE-qvYcnE"
      }
    },
    {
      "cell_type": "code",
      "source": [
        "dff = mydata2.groupby('clean_city').agg(mean('clean_salary').alias('avg_salary'))"
      ],
      "metadata": {
        "id": "onuBBmlnaeyb"
      },
      "execution_count": 120,
      "outputs": []
    },
    {
      "cell_type": "code",
      "source": [
        "max_sal = dff.select(max(dff.avg_salary)).collect()[0][0]"
      ],
      "metadata": {
        "id": "5U4aSeoVcAXn"
      },
      "execution_count": 132,
      "outputs": []
    },
    {
      "cell_type": "code",
      "source": [
        "dff.filter(dff.avg_salary == max_sal).show()"
      ],
      "metadata": {
        "colab": {
          "base_uri": "https://localhost:8080/"
        },
        "id": "l19caRLEareT",
        "outputId": "a53bd1a8-298b-4810-db38-86afa0889ffe"
      },
      "execution_count": 134,
      "outputs": [
        {
          "output_type": "stream",
          "name": "stdout",
          "text": [
            "+----------+-----------+\n",
            "|clean_city| avg_salary|\n",
            "+----------+-----------+\n",
            "| Mesopotam|99948.28125|\n",
            "+----------+-----------+\n",
            "\n"
          ]
        }
      ]
    },
    {
      "cell_type": "code",
      "source": [],
      "metadata": {
        "id": "99DzVZBebgpz"
      },
      "execution_count": null,
      "outputs": []
    }
  ]
}