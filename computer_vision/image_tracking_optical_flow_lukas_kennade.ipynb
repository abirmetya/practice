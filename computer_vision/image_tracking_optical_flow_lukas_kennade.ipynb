{
 "cells": [
  {
   "cell_type": "markdown",
   "metadata": {},
   "source": [
    "## Program for image tracking. Optical flow-by Lukas Kanade optical flow"
   ]
  },
  {
   "cell_type": "markdown",
   "metadata": {},
   "source": [
    "#### Use corner detection technique to identifying few points and then track them. Will use sci tomashi corner detection algorithm."
   ]
  },
  {
   "cell_type": "markdown",
   "metadata": {},
   "source": [
    "#### Idea is to detect 10 corners at the start of the video and start track them using Lucas Kanade optical flow"
   ]
  },
  {
   "cell_type": "code",
   "execution_count": 1,
   "metadata": {},
   "outputs": [],
   "source": [
    "import cv2\n",
    "import matplotlib.pyplot as plt\n",
    "import numpy as np"
   ]
  },
  {
   "cell_type": "code",
   "execution_count": 2,
   "metadata": {},
   "outputs": [],
   "source": [
    "corner_detection_params = dict(maxCorners=10,qualityLevel=0.3,minDistance=7,blockSize=7)\n",
    "\n",
    "lk_params = dict(winSize=(200,200),maxLevel =2 , criteria = (cv2.TERM_CRITERIA_EPS | cv2.TERM_CRITERIA_COUNT,10,0.03))"
   ]
  },
  {
   "cell_type": "code",
   "execution_count": 20,
   "metadata": {},
   "outputs": [],
   "source": [
    "## Read video file in OpenCV\n",
    "\n",
    "cap = cv2.VideoCapture(0)   ## O is given for live streaming\n",
    "\n",
    "ret,prev_frame = cap.read()\n",
    "\n",
    "## Conversion to gray scale\n",
    "prev_frame_gray = cv2.cvtColor(prev_frame,cv2.COLOR_BGR2GRAY)\n",
    "\n",
    "## Points to track\n",
    "## Use si-Tomashi corner detection GoodFeatures to Track\n",
    "\n",
    "pts_track = cv2.goodFeaturesToTrack(prev_frame_gray,mask=None,**corner_detection_params)\n",
    "\n",
    "mask = np.zeros_like(prev_frame)\n",
    "\n",
    "## Use while loop for track onwards\n",
    "while True:\n",
    "    ret,frame = cap.read()\n",
    "\n",
    "    frame_gray = cv2.cvtColor(frame,cv2.COLOR_BGR2GRAY)\n",
    "\n",
    "    ## Tracking\n",
    "    nextpts, status, err = cv2.calcOpticalFlowPyrLK(prev_frame_gray,frame_gray,pts_track,None,**lk_params)\n",
    "    # print(mask.shape,pts_track.shape,nextpts.shape)\n",
    "    \n",
    "    good_new  = nextpts[status == 1]    # a complex vector whose length will be equal to maxCorners (=10)\n",
    "    good_prev = pts_track[status == 1]\n",
    "\n",
    "    \n",
    "    for i, (new,prev) in enumerate(zip(good_new,good_prev)):\n",
    "        x_new  , y_new  = new.ravel()\n",
    "        x_prev , y_prev = prev.ravel()\n",
    "\n",
    "        # print(x_new  , y_new)\n",
    "        mask  = cv2.line(mask,pt1=(int(x_new),int(y_new)),pt2=(int(x_prev),int(y_prev)),color=(0,255,0),thickness=3) ## Mask is a blank video \n",
    "                                                                                                                        # frame which will use to draw connecting lines between consecutive frames \n",
    "        frame = cv2.circle(frame,(int(x_new),int(y_new)),8,(0,0,255),-1)  ## Frame is the video frame with drawn circles upon it which are directed to track.\n",
    "\n",
    "        # print(new.ravel(),new.ravel().shape )\n",
    "    # print(good_new.shape)\n",
    "    img = cv2.add(frame,mask)\n",
    "    cv2.imshow('tracking',img)\n",
    "\n",
    "    k = cv2.waitKey(30) & 0xFF\n",
    "\n",
    "    if k == 27:\n",
    "        break\n",
    "\n",
    "    prev_frame_gray = frame_gray.copy()\n",
    "    pts_track = good_new.reshape(-1,1,2)\n",
    "\n",
    "cv2.destroyAllWindows()\n",
    "cap.release()"
   ]
  },
  {
   "cell_type": "code",
   "execution_count": 18,
   "metadata": {},
   "outputs": [],
   "source": [
    "cap.release()"
   ]
  },
  {
   "cell_type": "code",
   "execution_count": null,
   "metadata": {},
   "outputs": [],
   "source": []
  }
 ],
 "metadata": {
  "kernelspec": {
   "display_name": "ai_ml",
   "language": "python",
   "name": "python3"
  },
  "language_info": {
   "codemirror_mode": {
    "name": "ipython",
    "version": 3
   },
   "file_extension": ".py",
   "mimetype": "text/x-python",
   "name": "python",
   "nbconvert_exporter": "python",
   "pygments_lexer": "ipython3",
   "version": "3.7.9"
  }
 },
 "nbformat": 4,
 "nbformat_minor": 2
}
